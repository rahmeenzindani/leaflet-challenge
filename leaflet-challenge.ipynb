{
 "cells": [
  {
   "cell_type": "code",
   "execution_count": null,
   "metadata": {},
   "outputs": [],
   "source": [
    "body {\n",
    "  padding: 0;\n",
    "  margin: 0;\n",
    "}\n",
    "\n",
    "#map,\n",
    "body,\n",
    "html {\n",
    "  height: 100%;\n",
    "}\n"
   ]
  },
  {
   "cell_type": "code",
   "execution_count": null,
   "metadata": {},
   "outputs": [],
   "source": [
    "\n",
    "<!DOCTYPE html>\n",
    "<html lang=\"en\">\n",
    "<head>\n",
    "  <meta charset=\"UTF-8\">\n",
    "  <meta name=\"viewport\" content=\"width=device-width, initial-scale=1.0\">\n",
    "  <title>Earthquake Visualization</title>\n",
    "  <link rel=\"stylesheet\" href=\"https://unpkg.com/leaflet/dist/leaflet.css\" />\n",
    "  <link rel=\"stylesheet\" href=\"style.css\">\n",
    "</head>\n",
    "<body>\n",
    "  <div id=\"map\" style=\"height: 600px;\"></div>\n",
    "\n",
    "  <script src=\"https://unpkg.com/leaflet/dist/leaflet.js\"></script>\n",
    "  <script src=\"https://d3js.org/d3.v5.min.js\"></script>\n",
    "  <script src=\"app.js\"></script>\n",
    "</body>\n",
    "</html>"
   ]
  },
  {
   "cell_type": "code",
   "execution_count": null,
   "metadata": {},
   "outputs": [],
   "source": [
    "body {\n",
    "  font-family: Arial, sans-serif;\n",
    "  margin: 0;\n",
    "  padding: 0;\n",
    "  background-color: #f0f0f0;\n",
    "}\n",
    "\n",
    "#map {\n",
    "  width: 100%;\n",
    "  height: 100vh;\n",
    "}\n"
   ]
  },
  {
   "cell_type": "code",
   "execution_count": null,
   "metadata": {
    "vscode": {
     "languageId": "javascript"
    }
   },
   "outputs": [],
   "source": [
    "// Create the map object centered at a specific latitude and longitude with a zoom level\n",
    "var map = L.map('map').setView([37.09, -95.71], 5); // Coordinates for the US center\n",
    "\n",
    "// Add a TileLayer for the map background (you can change the tile layer for different styles)\n",
    "L.tileLayer('https://{s}.tile.openstreetmap.org/{z}/{x}/{y}.png', {\n",
    "  attribution: '&copy; <a href=\"https://www.openstreetmap.org/copyright\">OpenStreetMap</a> contributors'\n",
    "}).addTo(map);\n"
   ]
  },
  {
   "cell_type": "code",
   "execution_count": null,
   "metadata": {
    "vscode": {
     "languageId": "javascript"
    }
   },
   "outputs": [],
   "source": [
    "// URL for the USGS GeoJSON feed (Earthquakes from the past 7 days)\n",
    "var geojsonURL = \"https://earthquake.usgs.gov/earthquakes/feed/v1.0/summary/all_day.geojson\";\n",
    "\n",
    "// Fetch and load the data\n",
    "d3.json(geojsonURL).then(function(data) {\n",
    "  // Call the function to add the earthquake markers to the map\n",
    "  createMarkers(data.features);\n",
    "});\n"
   ]
  },
  {
   "cell_type": "code",
   "execution_count": null,
   "metadata": {
    "vscode": {
     "languageId": "javascript"
    }
   },
   "outputs": [],
   "source": [
    "function createMarkers(earthquakeData) {\n",
    "    // Loop through each earthquake in the data\n",
    "    earthquakeData.forEach(function(earthquake) {\n",
    "      var coords = earthquake.geometry.coordinates;\n",
    "      var magnitude = earthquake.properties.mag;\n",
    "      var depth = coords[2];\n",
    "      var location = earthquake.properties.place;\n",
    "  \n",
    "      // Calculate marker size based on magnitude\n",
    "      var markerSize = magnitude * 5;\n",
    "  \n",
    "      // Define color based on depth (darker color for deeper earthquakes)\n",
    "      var depthColor = getDepthColor(depth);\n",
    "  \n",
    "      // Create a circle marker at the earthquake's location\n",
    "      L.circleMarker([coords[1], coords[0]], {\n",
    "        radius: markerSize,\n",
    "        fillColor: depthColor,\n",
    "        color: \"#000\",\n",
    "        weight: 0.5,\n",
    "        opacity: 1,\n",
    "        fillOpacity: 0.7\n",
    "      })\n",
    "      .bindPopup(\"<h3>Location: \" + location + \"</h3><p>Magnitude: \" + magnitude + \"<br>Depth: \" + depth + \" km</p>\")\n",
    "      .addTo(map);\n",
    "    });\n",
    "  }\n",
    "  \n",
    "  // Function to determine color based on depth\n",
    "  function getDepthColor(depth) {\n",
    "    if (depth <= 10) return \"#00FF00\"; // Shallow\n",
    "    else if (depth <= 30) return \"#FFFF00\"; // Moderate\n",
    "    else if (depth <= 50) return \"#FFA500\"; // Deep\n",
    "    else return \"#FF0000\"; // Very deep\n",
    "  }\n",
    "  "
   ]
  },
  {
   "cell_type": "code",
   "execution_count": null,
   "metadata": {
    "vscode": {
     "languageId": "javascript"
    }
   },
   "outputs": [],
   "source": [
    "// Create the legend to show the color scale for depth\n",
    "var legend = L.control({position: 'bottomright'});\n",
    "\n",
    "legend.onAdd = function() {\n",
    "  var div = L.DomUtil.create('div', 'info legend');\n",
    "  var depthRanges = [0, 10, 30, 50];\n",
    "  var colors = [\"#00FF00\", \"#FFFF00\", \"#FFA500\", \"#FF0000\"];\n",
    "\n",
    "  // Loop through the depth ranges and colors to build the legend\n",
    "  for (var i = 0; i < depthRanges.length; i++) {\n",
    "    div.innerHTML +=\n",
    "      '<i style=\"background:' + colors[i] + '\"></i> ' +\n",
    "      depthRanges[i] + (depthRanges[i + 1] ? '&ndash;' + depthRanges[i + 1] : '+') + ' km<br>';\n",
    "  }\n",
    "  return div;\n",
    "};\n",
    "\n",
    "legend.addTo(map);\n"
   ]
  }
 ],
 "metadata": {
  "language_info": {
   "name": "python"
  }
 },
 "nbformat": 4,
 "nbformat_minor": 2
}
